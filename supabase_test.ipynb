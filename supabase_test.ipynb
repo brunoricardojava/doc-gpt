{
 "cells": [
  {
   "cell_type": "code",
   "id": "5947c696-3b52-4663-9031-1af24030780d",
   "metadata": {
    "ExecuteTime": {
     "end_time": "2024-04-17T17:49:05.287669Z",
     "start_time": "2024-04-17T17:49:05.276237Z"
    }
   },
   "source": "import os, python_dotenv",
   "outputs": [],
   "execution_count": 1
  },
  {
   "cell_type": "code",
   "id": "f5e5e653-22d4-44fe-877c-a480c31a58a6",
   "metadata": {
    "ExecuteTime": {
     "end_time": "2024-04-17T17:49:05.410909Z",
     "start_time": "2024-04-17T17:49:05.323429Z"
    }
   },
   "source": [
    "from dotenv import load_dotenv"
   ],
   "outputs": [
    {
     "ename": "ModuleNotFoundError",
     "evalue": "No module named 'dotenv'",
     "output_type": "error",
     "traceback": [
      "\u001B[0;31m---------------------------------------------------------------------------\u001B[0m",
      "\u001B[0;31mModuleNotFoundError\u001B[0m                       Traceback (most recent call last)",
      "\u001B[0;32m<ipython-input-2-ecc12447e405>\u001B[0m in \u001B[0;36m<module>\u001B[0;34m\u001B[0m\n\u001B[0;32m----> 1\u001B[0;31m \u001B[0;32mfrom\u001B[0m \u001B[0mdotenv\u001B[0m \u001B[0;32mimport\u001B[0m \u001B[0mload_dotenv\u001B[0m\u001B[0;34m\u001B[0m\u001B[0;34m\u001B[0m\u001B[0m\n\u001B[0m",
      "\u001B[0;31mModuleNotFoundError\u001B[0m: No module named 'dotenv'"
     ]
    }
   ],
   "execution_count": 2
  },
  {
   "cell_type": "code",
   "id": "0f3c4d2c-b341-4a2c-93cb-ee3f650824b5",
   "metadata": {
    "ExecuteTime": {
     "end_time": "2024-04-17T17:49:05.413397Z",
     "start_time": "2024-04-17T17:49:05.413236Z"
    }
   },
   "source": [
    "from supabase import create_client, Client"
   ],
   "outputs": [],
   "execution_count": null
  },
  {
   "cell_type": "code",
   "execution_count": 12,
   "id": "51dc1531-854b-4430-adfe-48e22018affa",
   "metadata": {},
   "outputs": [
    {
     "data": {
      "text/plain": [
       "True"
      ]
     },
     "execution_count": 12,
     "metadata": {},
     "output_type": "execute_result"
    }
   ],
   "source": [
    "load_dotenv()"
   ]
  },
  {
   "cell_type": "raw",
   "id": "3dcf901b-5faa-448f-98f4-bb306b95765f",
   "metadata": {},
   "source": [
    "url = os.environ.get(\"SUPABASE_URL\")"
   ]
  },
  {
   "cell_type": "code",
   "execution_count": 24,
   "id": "816dc8a7-6bbe-46b7-bf98-ad7f8f259ca8",
   "metadata": {},
   "outputs": [],
   "source": [
    "key = os.environ.get(\"SUPABASE_SERVICE_KEY\")"
   ]
  },
  {
   "cell_type": "code",
   "execution_count": 26,
   "id": "da505c5c-f34d-4d5d-b055-af1527870507",
   "metadata": {},
   "outputs": [],
   "source": [
    "supabase = create_client(url, key)"
   ]
  },
  {
   "cell_type": "code",
   "execution_count": 30,
   "id": "457e71a7-e694-44b5-9623-783ca038469a",
   "metadata": {},
   "outputs": [
    {
     "name": "stderr",
     "output_type": "stream",
     "text": [
      "2024-04-17 09:57:18,894:INFO - HTTP Request: GET https://hxpnenuxfwsvtrtwgyfs.supabase.co/rest/v1/core_user?select=id%2C%20name%2C%20email \"HTTP/1.1 200 OK\"\n"
     ]
    }
   ],
   "source": [
    "response = supabase.table('core_user').select(\"id, name, email\").execute()"
   ]
  },
  {
   "cell_type": "code",
   "execution_count": 31,
   "id": "be191207-abc8-4a7b-b944-5f612e702442",
   "metadata": {},
   "outputs": [
    {
     "data": {
      "text/plain": [
       "APIResponse[TypeVar](data=[{'id': 7, 'name': 'Gianni Lemes', 'email': 'gianniindio@yahoo.com.br'}, {'id': 9, 'name': 'Elizabete SERRANO dos Santos', 'email': 'elizabeteserrano3279@gmail.com'}, {'id': 2, 'name': 'Mário Sérgio Ferreira Mendes', 'email': 'mario.mendes.sergio@gmail.com'}, {'id': 3, 'name': 'OSVAIR', 'email': 'osvair.araujo@hover.com.br'}, {'id': 6, 'name': 'Laiara Torres', 'email': 'laiara.torres@sou.unaerp.edu.br'}, {'id': 8, 'name': 'Marcelo César Ferreira Mendes', 'email': 'medmcfm@gmail.com'}, {'id': 1, 'name': 'Gonçalo Franco', 'email': 'gapfranco@gmail.com'}, {'id': 10, 'name': 'Ricardo', 'email': 'r.n.hori@gmail.com'}, {'id': 5, 'name': 'Simone', 'email': 'doutoradoszt@gmail.com'}, {'id': 4, 'name': 'Bruno', 'email': 'brunoricardojava@gmail.com'}], count=None)"
      ]
     },
     "execution_count": 31,
     "metadata": {},
     "output_type": "execute_result"
    }
   ],
   "source": [
    "response"
   ]
  }
 ],
 "metadata": {
  "kernelspec": {
   "display_name": "Python 3 (ipykernel)",
   "language": "python",
   "name": "python3"
  },
  "language_info": {
   "codemirror_mode": {
    "name": "ipython",
    "version": 3
   },
   "file_extension": ".py",
   "mimetype": "text/x-python",
   "name": "python",
   "nbconvert_exporter": "python",
   "pygments_lexer": "ipython3",
   "version": "3.12.2"
  }
 },
 "nbformat": 4,
 "nbformat_minor": 5
}
